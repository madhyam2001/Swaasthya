{
 "cells": [
  {
   "cell_type": "code",
   "execution_count": 67,
   "id": "e0422536",
   "metadata": {},
   "outputs": [],
   "source": [
    "import pandas as pd\n",
    "import numpy as np\n",
    "import matplotlib.pyplot as plt\n",
    "from sklearn.model_selection import train_test_split\n",
    "from sklearn.impute import KNNImputer\n",
    "from sklearn import preprocessing\n",
    "from sklearn.preprocessing import StandardScaler\n",
    "from sklearn.svm import SVC\n",
    "from sklearn.model_selection import GridSearchCV\n",
    "from sklearn import metrics\n",
    "from tensorflow.python.keras.models import Sequential\n",
    "from tensorflow.python.keras.layers import Dense\n",
    "from tensorflow.python.keras.wrappers.scikit_learn import KerasRegressor"
   ]
  },
  {
   "cell_type": "code",
   "execution_count": 2,
   "id": "a5a10b61",
   "metadata": {},
   "outputs": [],
   "source": [
    "def null_values_check(df): \n",
    "    #Error handling to prevent abnormal termination of operation\n",
    "    try:\n",
    "        #if-else statement for null value check \n",
    "        if(df.isnull().values.any() == True):\n",
    "            #if there are null values present, print a column-wise summary of records with null values\n",
    "            print('Number of null records within each column:\\n' + str(df.isnull().sum()))\n",
    "        else:\n",
    "            print('There is no missing values in the dataset.')\n",
    "    \n",
    "    except Exception as e:\n",
    "        logging.error(e)"
   ]
  },
  {
   "cell_type": "code",
   "execution_count": 3,
   "id": "a9b899b5",
   "metadata": {},
   "outputs": [],
   "source": [
    "chronic_kidney_disease_dataframe = pd.read_csv('chronic_kidney_disease.csv')"
   ]
  },
  {
   "cell_type": "code",
   "execution_count": 4,
   "id": "0000fa91",
   "metadata": {},
   "outputs": [
    {
     "name": "stdout",
     "output_type": "stream",
     "text": [
      "There is no missing values in the dataset.\n"
     ]
    }
   ],
   "source": [
    "null_values_check(chronic_kidney_disease_dataframe)"
   ]
  },
  {
   "cell_type": "code",
   "execution_count": 5,
   "id": "7c62e00c",
   "metadata": {},
   "outputs": [],
   "source": [
    "chronic_kidney_disease_dataframe = chronic_kidney_disease_dataframe.replace('?', np.nan)"
   ]
  },
  {
   "cell_type": "code",
   "execution_count": 6,
   "id": "139bc8e1",
   "metadata": {},
   "outputs": [],
   "source": [
    "target_class = chronic_kidney_disease_dataframe['class']"
   ]
  },
  {
   "cell_type": "code",
   "execution_count": 7,
   "id": "ad97a3d5",
   "metadata": {},
   "outputs": [],
   "source": [
    "feature_classes = chronic_kidney_disease_dataframe.iloc[:, 0:24]"
   ]
  },
  {
   "cell_type": "code",
   "execution_count": 8,
   "id": "336fadc3",
   "metadata": {},
   "outputs": [],
   "source": [
    "knn_missing_values_imputer = KNNImputer(n_neighbors=5)\n",
    "feature_classes = pd.DataFrame(knn_missing_values_imputer.fit_transform(feature_classes),\n",
    "                                   columns = feature_classes.columns)"
   ]
  },
  {
   "cell_type": "code",
   "execution_count": 9,
   "id": "4a95ca56",
   "metadata": {},
   "outputs": [
    {
     "name": "stdout",
     "output_type": "stream",
     "text": [
      "\n",
      "Now, Are there any missing values in Features? age      False\n",
      "bp       False\n",
      "sg       False\n",
      "al       False\n",
      "su       False\n",
      "rbc      False\n",
      "pc       False\n",
      "pcc      False\n",
      "ba       False\n",
      "bgr      False\n",
      "bu       False\n",
      "sc       False\n",
      "sod      False\n",
      "pot      False\n",
      "hemo     False\n",
      "pcv      False\n",
      "wbcc     False\n",
      "rbcc     False\n",
      "htn      False\n",
      "dm       False\n",
      "cad      False\n",
      "appet    False\n",
      "pe       False\n",
      "ane      False\n",
      "dtype: bool\n"
     ]
    }
   ],
   "source": [
    "print('\\nNow, Are there any missing values in Features? ' + str(feature_classes.isna().any()))"
   ]
  },
  {
   "cell_type": "code",
   "execution_count": 10,
   "id": "931352ff",
   "metadata": {},
   "outputs": [],
   "source": [
    "standard_feature_scaler = StandardScaler()\n",
    "feature_classes = standard_feature_scaler.fit_transform(feature_classes)\n",
    "feature_classes = pd.DataFrame(feature_classes, columns=['age', 'bp', 'sg', 'al', 'su', 'rbc', 'pc', \n",
    "                                                             'pcc', 'ba', 'bgr', 'bu', 'sc', 'sod', 'pot', \n",
    "                                                             'hemo', 'pcv', 'wbcc', 'rbcc', 'htn', 'dm', \n",
    "                                                             'cad', 'appet', 'pe', 'ane'])"
   ]
  },
  {
   "cell_type": "code",
   "execution_count": 12,
   "id": "3df57ee4",
   "metadata": {},
   "outputs": [],
   "source": [
    "target_label_encoder = preprocessing.LabelEncoder()\n",
    "target_class = target_label_encoder.fit_transform(target_class)\n",
    "target_class1 = pd.DataFrame(target_class, columns=['class'])"
   ]
  },
  {
   "cell_type": "code",
   "execution_count": 14,
   "id": "12e72211",
   "metadata": {},
   "outputs": [],
   "source": [
    "train_features, test_features, train_target, test_target = train_test_split(feature_classes, target_class, \n",
    "                                                                                train_size = 0.7, test_size = 0.3)"
   ]
  },
  {
   "cell_type": "code",
   "execution_count": 30,
   "id": "6a85b7e7",
   "metadata": {},
   "outputs": [],
   "source": [
    "from sklearn.svm import SVC\n",
    "clf = SVC(kernel='sigmoid')"
   ]
  },
  {
   "cell_type": "code",
   "execution_count": 47,
   "id": "e085631d",
   "metadata": {},
   "outputs": [
    {
     "data": {
      "text/plain": [
       "SVC(kernel='sigmoid')"
      ]
     },
     "execution_count": 47,
     "metadata": {},
     "output_type": "execute_result"
    }
   ],
   "source": [
    "clf.fit(train_features, train_target)"
   ]
  },
  {
   "cell_type": "code",
   "execution_count": 32,
   "id": "856b04ba",
   "metadata": {},
   "outputs": [
    {
     "data": {
      "text/plain": [
       "array([0])"
      ]
     },
     "execution_count": 32,
     "metadata": {},
     "output_type": "execute_result"
    }
   ],
   "source": [
    "clf.predict([[35,80,1.02,0,0,0,0,1,1,104,31,1.2,135,5,16.1,45,4300,5.2,1,1,1,1,1,1]])"
   ]
  },
  {
   "cell_type": "code",
   "execution_count": 33,
   "id": "6f48c610",
   "metadata": {},
   "outputs": [
    {
     "data": {
      "text/plain": [
       "array([0, 0, 0, 0, 1, 0, 1, 1, 1, 0, 0, 1, 1, 0, 0, 0, 0, 1, 1, 0, 1, 0,\n",
       "       0, 0, 1, 1, 1, 0, 0, 0, 0, 1, 0, 1, 1, 0, 0, 0, 1, 0, 0, 0, 0, 0,\n",
       "       1, 0, 1, 0, 1, 0, 1, 0, 1, 1, 1, 0, 0, 1, 0, 1, 1, 0, 0, 1, 1, 0,\n",
       "       0, 1, 1, 0, 0, 1, 0, 0, 0, 1, 0, 0, 0, 0, 0, 1, 0, 1, 1, 0, 0, 0,\n",
       "       1, 1, 1, 1, 1, 1, 1, 0, 1, 0, 0, 0, 1, 0, 1, 1, 0, 0, 0, 0, 0, 0,\n",
       "       1, 0, 1, 0, 1, 0, 0, 0, 1, 0])"
      ]
     },
     "execution_count": 33,
     "metadata": {},
     "output_type": "execute_result"
    }
   ],
   "source": [
    "clf.predict(test_features)"
   ]
  },
  {
   "cell_type": "code",
   "execution_count": 34,
   "id": "80fa856d",
   "metadata": {},
   "outputs": [
    {
     "data": {
      "text/plain": [
       "GaussianNB()"
      ]
     },
     "execution_count": 34,
     "metadata": {},
     "output_type": "execute_result"
    }
   ],
   "source": [
    "from sklearn.naive_bayes import GaussianNB\n",
    "classifier = GaussianNB()\n",
    "classifier.fit(train_features,train_target)"
   ]
  },
  {
   "cell_type": "code",
   "execution_count": 35,
   "id": "ba045554",
   "metadata": {},
   "outputs": [],
   "source": [
    "y_pred  =  classifier.predict(test_features)"
   ]
  },
  {
   "cell_type": "code",
   "execution_count": 36,
   "id": "4b2e4342",
   "metadata": {},
   "outputs": [
    {
     "data": {
      "text/plain": [
       "array([0, 0, 0, 0, 1, 0, 1, 1, 1, 0, 0, 1, 1, 1, 0, 0, 0, 1, 1, 0, 1, 0,\n",
       "       0, 0, 1, 1, 1, 0, 0, 0, 0, 1, 0, 1, 1, 0, 0, 1, 1, 0, 0, 0, 0, 0,\n",
       "       1, 0, 1, 0, 1, 0, 1, 0, 1, 1, 1, 1, 0, 1, 0, 1, 1, 0, 0, 1, 1, 0,\n",
       "       0, 1, 1, 0, 0, 1, 0, 0, 0, 1, 0, 0, 0, 0, 0, 1, 0, 1, 1, 0, 0, 1,\n",
       "       1, 1, 1, 1, 1, 1, 1, 0, 0, 0, 0, 0, 1, 0, 1, 1, 0, 0, 0, 1, 0, 0,\n",
       "       1, 0, 1, 0, 1, 0, 0, 0, 1, 0])"
      ]
     },
     "execution_count": 36,
     "metadata": {},
     "output_type": "execute_result"
    }
   ],
   "source": [
    "y_pred"
   ]
  },
  {
   "cell_type": "code",
   "execution_count": 99,
   "id": "9d24b574",
   "metadata": {},
   "outputs": [
    {
     "name": "stdout",
     "output_type": "stream",
     "text": [
      "Model: \"sequential_13\"\n",
      "_________________________________________________________________\n",
      "Layer (type)                 Output Shape              Param #   \n",
      "=================================================================\n",
      "dense_24 (Dense)             (None, 12)                300       \n",
      "_________________________________________________________________\n",
      "dense_25 (Dense)             (None, 8)                 104       \n",
      "_________________________________________________________________\n",
      "dense_26 (Dense)             (None, 1)                 9         \n",
      "=================================================================\n",
      "Total params: 413\n",
      "Trainable params: 413\n",
      "Non-trainable params: 0\n",
      "_________________________________________________________________\n",
      "Epoch 1/150\n",
      "14/14 [==============================] - 0s 1ms/step - loss: 0.3379 - mse: 0.3379 - mae: 0.4763 - accuracy: 0.5750\n",
      "Epoch 2/150\n",
      "14/14 [==============================] - 0s 1ms/step - loss: 0.2392 - mse: 0.2392 - mae: 0.3972 - accuracy: 0.6393\n",
      "Epoch 3/150\n",
      "14/14 [==============================] - 0s 1ms/step - loss: 0.1546 - mse: 0.1546 - mae: 0.3187 - accuracy: 0.8143\n",
      "Epoch 4/150\n",
      "14/14 [==============================] - 0s 1ms/step - loss: 0.1028 - mse: 0.1028 - mae: 0.2510 - accuracy: 0.9107\n",
      "Epoch 5/150\n",
      "14/14 [==============================] - 0s 1ms/step - loss: 0.0792 - mse: 0.0792 - mae: 0.2154 - accuracy: 0.9393\n",
      "Epoch 6/150\n",
      "14/14 [==============================] - 0s 1ms/step - loss: 0.0671 - mse: 0.0671 - mae: 0.1945 - accuracy: 0.9464\n",
      "Epoch 7/150\n",
      "14/14 [==============================] - 0s 1ms/step - loss: 0.0588 - mse: 0.0588 - mae: 0.1794 - accuracy: 0.9536\n",
      "Epoch 8/150\n",
      "14/14 [==============================] - 0s 1ms/step - loss: 0.0529 - mse: 0.0529 - mae: 0.1690 - accuracy: 0.9536\n",
      "Epoch 9/150\n",
      "14/14 [==============================] - 0s 1ms/step - loss: 0.0485 - mse: 0.0485 - mae: 0.1610 - accuracy: 0.9571\n",
      "Epoch 10/150\n",
      "14/14 [==============================] - 0s 1ms/step - loss: 0.0452 - mse: 0.0452 - mae: 0.1538 - accuracy: 0.9643\n",
      "Epoch 11/150\n",
      "14/14 [==============================] - 0s 1ms/step - loss: 0.0425 - mse: 0.0425 - mae: 0.1489 - accuracy: 0.9643\n",
      "Epoch 12/150\n",
      "14/14 [==============================] - 0s 1ms/step - loss: 0.0400 - mse: 0.0400 - mae: 0.1433 - accuracy: 0.9643\n",
      "Epoch 13/150\n",
      "14/14 [==============================] - 0s 1ms/step - loss: 0.0381 - mse: 0.0381 - mae: 0.1384 - accuracy: 0.9679\n",
      "Epoch 14/150\n",
      "14/14 [==============================] - 0s 1ms/step - loss: 0.0362 - mse: 0.0362 - mae: 0.1345 - accuracy: 0.9679\n",
      "Epoch 15/150\n",
      "14/14 [==============================] - 0s 1ms/step - loss: 0.0343 - mse: 0.0343 - mae: 0.1300 - accuracy: 0.9679\n",
      "Epoch 16/150\n",
      "14/14 [==============================] - 0s 1ms/step - loss: 0.0328 - mse: 0.0328 - mae: 0.1265 - accuracy: 0.9679\n",
      "Epoch 17/150\n",
      "14/14 [==============================] - 0s 1ms/step - loss: 0.0314 - mse: 0.0314 - mae: 0.1228 - accuracy: 0.9679\n",
      "Epoch 18/150\n",
      "14/14 [==============================] - 0s 1ms/step - loss: 0.0299 - mse: 0.0299 - mae: 0.1193 - accuracy: 0.9679\n",
      "Epoch 19/150\n",
      "14/14 [==============================] - 0s 1ms/step - loss: 0.0289 - mse: 0.0289 - mae: 0.1167 - accuracy: 0.9679\n",
      "Epoch 20/150\n",
      "14/14 [==============================] - 0s 1ms/step - loss: 0.0280 - mse: 0.0280 - mae: 0.1143 - accuracy: 0.9679\n",
      "Epoch 21/150\n",
      "14/14 [==============================] - 0s 1ms/step - loss: 0.0268 - mse: 0.0268 - mae: 0.1115 - accuracy: 0.9679\n",
      "Epoch 22/150\n",
      "14/14 [==============================] - 0s 1ms/step - loss: 0.0259 - mse: 0.0259 - mae: 0.1093 - accuracy: 0.9714\n",
      "Epoch 23/150\n",
      "14/14 [==============================] - 0s 1ms/step - loss: 0.0249 - mse: 0.0249 - mae: 0.1067 - accuracy: 0.9750\n",
      "Epoch 24/150\n",
      "14/14 [==============================] - 0s 1ms/step - loss: 0.0240 - mse: 0.0240 - mae: 0.1041 - accuracy: 0.9750\n",
      "Epoch 25/150\n",
      "14/14 [==============================] - 0s 1ms/step - loss: 0.0230 - mse: 0.0230 - mae: 0.1018 - accuracy: 0.9750\n",
      "Epoch 26/150\n",
      "14/14 [==============================] - 0s 1ms/step - loss: 0.0221 - mse: 0.0221 - mae: 0.0994 - accuracy: 0.9750\n",
      "Epoch 27/150\n",
      "14/14 [==============================] - 0s 2ms/step - loss: 0.0214 - mse: 0.0214 - mae: 0.0974 - accuracy: 0.9786\n",
      "Epoch 28/150\n",
      "14/14 [==============================] - 0s 1ms/step - loss: 0.0206 - mse: 0.0206 - mae: 0.0949 - accuracy: 0.9786\n",
      "Epoch 29/150\n",
      "14/14 [==============================] - 0s 1ms/step - loss: 0.0198 - mse: 0.0198 - mae: 0.0924 - accuracy: 0.9786\n",
      "Epoch 30/150\n",
      "14/14 [==============================] - 0s 1ms/step - loss: 0.0190 - mse: 0.0190 - mae: 0.0907 - accuracy: 0.9786\n",
      "Epoch 31/150\n",
      "14/14 [==============================] - 0s 1ms/step - loss: 0.0185 - mse: 0.0185 - mae: 0.0888 - accuracy: 0.9821\n",
      "Epoch 32/150\n",
      "14/14 [==============================] - 0s 2ms/step - loss: 0.0177 - mse: 0.0177 - mae: 0.0863 - accuracy: 0.9857\n",
      "Epoch 33/150\n",
      "14/14 [==============================] - 0s 1ms/step - loss: 0.0172 - mse: 0.0172 - mae: 0.0843 - accuracy: 0.9857\n",
      "Epoch 34/150\n",
      "14/14 [==============================] - 0s 1ms/step - loss: 0.0167 - mse: 0.0167 - mae: 0.0827 - accuracy: 0.9857\n",
      "Epoch 35/150\n",
      "14/14 [==============================] - 0s 1ms/step - loss: 0.0161 - mse: 0.0161 - mae: 0.0816 - accuracy: 0.9857\n",
      "Epoch 36/150\n",
      "14/14 [==============================] - 0s 2ms/step - loss: 0.0156 - mse: 0.0156 - mae: 0.0802 - accuracy: 0.9857\n",
      "Epoch 37/150\n",
      "14/14 [==============================] - 0s 1ms/step - loss: 0.0151 - mse: 0.0151 - mae: 0.0782 - accuracy: 0.9893\n",
      "Epoch 38/150\n",
      "14/14 [==============================] - 0s 1ms/step - loss: 0.0148 - mse: 0.0148 - mae: 0.0765 - accuracy: 0.9893\n",
      "Epoch 39/150\n",
      "14/14 [==============================] - 0s 1ms/step - loss: 0.0143 - mse: 0.0143 - mae: 0.0749 - accuracy: 0.9893\n",
      "Epoch 40/150\n",
      "14/14 [==============================] - 0s 1ms/step - loss: 0.0139 - mse: 0.0139 - mae: 0.0745 - accuracy: 0.9893\n",
      "Epoch 41/150\n",
      "14/14 [==============================] - 0s 2ms/step - loss: 0.0136 - mse: 0.0136 - mae: 0.0731 - accuracy: 0.9893\n",
      "Epoch 42/150\n",
      "14/14 [==============================] - 0s 1ms/step - loss: 0.0129 - mse: 0.0129 - mae: 0.0712 - accuracy: 0.9929\n",
      "Epoch 43/150\n",
      "14/14 [==============================] - 0s 1ms/step - loss: 0.0126 - mse: 0.0126 - mae: 0.0700 - accuracy: 0.9893\n",
      "Epoch 44/150\n",
      "14/14 [==============================] - 0s 2ms/step - loss: 0.0124 - mse: 0.0124 - mae: 0.0691 - accuracy: 0.9929\n",
      "Epoch 45/150\n",
      "14/14 [==============================] - 0s 1ms/step - loss: 0.0120 - mse: 0.0120 - mae: 0.0679 - accuracy: 0.9929\n",
      "Epoch 46/150\n",
      "14/14 [==============================] - 0s 1ms/step - loss: 0.0116 - mse: 0.0116 - mae: 0.0665 - accuracy: 0.9929\n",
      "Epoch 47/150\n",
      "14/14 [==============================] - 0s 2ms/step - loss: 0.0111 - mse: 0.0111 - mae: 0.0649 - accuracy: 0.9929\n",
      "Epoch 48/150\n",
      "14/14 [==============================] - 0s 1ms/step - loss: 0.0107 - mse: 0.0107 - mae: 0.0634 - accuracy: 0.9929\n",
      "Epoch 49/150\n",
      "14/14 [==============================] - 0s 1ms/step - loss: 0.0106 - mse: 0.0106 - mae: 0.0622 - accuracy: 0.9929\n",
      "Epoch 50/150\n",
      "14/14 [==============================] - 0s 1ms/step - loss: 0.0102 - mse: 0.0102 - mae: 0.0611 - accuracy: 0.9929\n",
      "Epoch 51/150\n",
      "14/14 [==============================] - 0s 1ms/step - loss: 0.0099 - mse: 0.0099 - mae: 0.0596 - accuracy: 0.9929\n",
      "Epoch 52/150\n",
      "14/14 [==============================] - 0s 2ms/step - loss: 0.0097 - mse: 0.0097 - mae: 0.0589 - accuracy: 0.9929\n",
      "Epoch 53/150\n",
      "14/14 [==============================] - 0s 1ms/step - loss: 0.0093 - mse: 0.0093 - mae: 0.0578 - accuracy: 0.9964\n",
      "Epoch 54/150\n",
      "14/14 [==============================] - 0s 1ms/step - loss: 0.0091 - mse: 0.0091 - mae: 0.0567 - accuracy: 0.9929\n",
      "Epoch 55/150\n",
      "14/14 [==============================] - 0s 1ms/step - loss: 0.0089 - mse: 0.0089 - mae: 0.0558 - accuracy: 0.9964\n",
      "Epoch 56/150\n",
      "14/14 [==============================] - 0s 1ms/step - loss: 0.0087 - mse: 0.0087 - mae: 0.0549 - accuracy: 0.9964\n",
      "Epoch 57/150\n",
      "14/14 [==============================] - 0s 1ms/step - loss: 0.0086 - mse: 0.0086 - mae: 0.0537 - accuracy: 0.9964\n",
      "Epoch 58/150\n",
      "14/14 [==============================] - 0s 2ms/step - loss: 0.0083 - mse: 0.0083 - mae: 0.0539 - accuracy: 0.9964\n",
      "Epoch 59/150\n"
     ]
    },
    {
     "name": "stdout",
     "output_type": "stream",
     "text": [
      "14/14 [==============================] - 0s 1ms/step - loss: 0.0082 - mse: 0.0082 - mae: 0.0524 - accuracy: 1.0000\n",
      "Epoch 60/150\n",
      "14/14 [==============================] - 0s 1ms/step - loss: 0.0081 - mse: 0.0081 - mae: 0.0521 - accuracy: 0.9964\n",
      "Epoch 61/150\n",
      "14/14 [==============================] - 0s 1ms/step - loss: 0.0078 - mse: 0.0078 - mae: 0.0518 - accuracy: 0.9964\n",
      "Epoch 62/150\n",
      "14/14 [==============================] - 0s 1ms/step - loss: 0.0077 - mse: 0.0077 - mae: 0.0514 - accuracy: 0.9964\n",
      "Epoch 63/150\n",
      "14/14 [==============================] - 0s 1ms/step - loss: 0.0075 - mse: 0.0075 - mae: 0.0504 - accuracy: 0.9964\n",
      "Epoch 64/150\n",
      "14/14 [==============================] - 0s 1ms/step - loss: 0.0073 - mse: 0.0073 - mae: 0.0496 - accuracy: 1.0000\n",
      "Epoch 65/150\n",
      "14/14 [==============================] - 0s 2ms/step - loss: 0.0073 - mse: 0.0073 - mae: 0.0493 - accuracy: 1.0000\n",
      "Epoch 66/150\n",
      "14/14 [==============================] - 0s 1ms/step - loss: 0.0071 - mse: 0.0071 - mae: 0.0488 - accuracy: 1.0000\n",
      "Epoch 67/150\n",
      "14/14 [==============================] - 0s 2ms/step - loss: 0.0070 - mse: 0.0070 - mae: 0.0485 - accuracy: 1.0000\n",
      "Epoch 68/150\n",
      "14/14 [==============================] - 0s 1ms/step - loss: 0.0068 - mse: 0.0068 - mae: 0.0483 - accuracy: 1.0000\n",
      "Epoch 69/150\n",
      "14/14 [==============================] - ETA: 0s - loss: 0.0093 - mse: 0.0093 - mae: 0.0506 - accuracy: 1.00 - 0s 1ms/step - loss: 0.0067 - mse: 0.0067 - mae: 0.0471 - accuracy: 1.0000\n",
      "Epoch 70/150\n",
      "14/14 [==============================] - 0s 1ms/step - loss: 0.0066 - mse: 0.0066 - mae: 0.0469 - accuracy: 1.0000\n",
      "Epoch 71/150\n",
      "14/14 [==============================] - 0s 1ms/step - loss: 0.0064 - mse: 0.0064 - mae: 0.0460 - accuracy: 1.0000\n",
      "Epoch 72/150\n",
      "14/14 [==============================] - 0s 1ms/step - loss: 0.0063 - mse: 0.0063 - mae: 0.0455 - accuracy: 1.0000\n",
      "Epoch 73/150\n",
      "14/14 [==============================] - 0s 1ms/step - loss: 0.0062 - mse: 0.0062 - mae: 0.0453 - accuracy: 1.0000\n",
      "Epoch 74/150\n",
      "14/14 [==============================] - 0s 1ms/step - loss: 0.0061 - mse: 0.0061 - mae: 0.0455 - accuracy: 1.0000\n",
      "Epoch 75/150\n",
      "14/14 [==============================] - 0s 1ms/step - loss: 0.0059 - mse: 0.0059 - mae: 0.0443 - accuracy: 1.0000\n",
      "Epoch 76/150\n",
      "14/14 [==============================] - 0s 1ms/step - loss: 0.0058 - mse: 0.0058 - mae: 0.0439 - accuracy: 1.0000\n",
      "Epoch 77/150\n",
      "14/14 [==============================] - 0s 1ms/step - loss: 0.0057 - mse: 0.0057 - mae: 0.0436 - accuracy: 1.0000\n",
      "Epoch 78/150\n",
      "14/14 [==============================] - 0s 1ms/step - loss: 0.0057 - mse: 0.0057 - mae: 0.0432 - accuracy: 1.0000\n",
      "Epoch 79/150\n",
      "14/14 [==============================] - 0s 1ms/step - loss: 0.0054 - mse: 0.0054 - mae: 0.0430 - accuracy: 1.0000\n",
      "Epoch 80/150\n",
      "14/14 [==============================] - 0s 1ms/step - loss: 0.0054 - mse: 0.0054 - mae: 0.0422 - accuracy: 1.0000\n",
      "Epoch 81/150\n",
      "14/14 [==============================] - 0s 1ms/step - loss: 0.0054 - mse: 0.0054 - mae: 0.0431 - accuracy: 1.0000\n",
      "Epoch 82/150\n",
      "14/14 [==============================] - 0s 1ms/step - loss: 0.0052 - mse: 0.0052 - mae: 0.0411 - accuracy: 1.0000\n",
      "Epoch 83/150\n",
      "14/14 [==============================] - 0s 2ms/step - loss: 0.0051 - mse: 0.0051 - mae: 0.0418 - accuracy: 1.0000\n",
      "Epoch 84/150\n",
      "14/14 [==============================] - 0s 1ms/step - loss: 0.0050 - mse: 0.0050 - mae: 0.0405 - accuracy: 1.0000\n",
      "Epoch 85/150\n",
      "14/14 [==============================] - 0s 1ms/step - loss: 0.0050 - mse: 0.0050 - mae: 0.0406 - accuracy: 1.0000\n",
      "Epoch 86/150\n",
      "14/14 [==============================] - 0s 1ms/step - loss: 0.0048 - mse: 0.0048 - mae: 0.0399 - accuracy: 1.0000\n",
      "Epoch 87/150\n",
      "14/14 [==============================] - 0s 1ms/step - loss: 0.0047 - mse: 0.0047 - mae: 0.0393 - accuracy: 1.0000\n",
      "Epoch 88/150\n",
      "14/14 [==============================] - 0s 1ms/step - loss: 0.0046 - mse: 0.0046 - mae: 0.0389 - accuracy: 1.0000\n",
      "Epoch 89/150\n",
      "14/14 [==============================] - 0s 1ms/step - loss: 0.0046 - mse: 0.0046 - mae: 0.0387 - accuracy: 1.0000\n",
      "Epoch 90/150\n",
      "14/14 [==============================] - 0s 1ms/step - loss: 0.0046 - mse: 0.0046 - mae: 0.0387 - accuracy: 1.0000\n",
      "Epoch 91/150\n",
      "14/14 [==============================] - 0s 1ms/step - loss: 0.0044 - mse: 0.0044 - mae: 0.0377 - accuracy: 1.0000\n",
      "Epoch 92/150\n",
      "14/14 [==============================] - 0s 1ms/step - loss: 0.0043 - mse: 0.0043 - mae: 0.0369 - accuracy: 1.0000\n",
      "Epoch 93/150\n",
      "14/14 [==============================] - 0s 2ms/step - loss: 0.0042 - mse: 0.0042 - mae: 0.0368 - accuracy: 1.0000\n",
      "Epoch 94/150\n",
      "14/14 [==============================] - 0s 1ms/step - loss: 0.0042 - mse: 0.0042 - mae: 0.0368 - accuracy: 1.0000\n",
      "Epoch 95/150\n",
      "14/14 [==============================] - 0s 1ms/step - loss: 0.0041 - mse: 0.0041 - mae: 0.0365 - accuracy: 1.0000\n",
      "Epoch 96/150\n",
      "14/14 [==============================] - 0s 1ms/step - loss: 0.0040 - mse: 0.0040 - mae: 0.0358 - accuracy: 1.0000\n",
      "Epoch 97/150\n",
      "14/14 [==============================] - 0s 1ms/step - loss: 0.0040 - mse: 0.0040 - mae: 0.0349 - accuracy: 1.0000\n",
      "Epoch 98/150\n",
      "14/14 [==============================] - 0s 2ms/step - loss: 0.0038 - mse: 0.0038 - mae: 0.0351 - accuracy: 1.0000\n",
      "Epoch 99/150\n",
      "14/14 [==============================] - 0s 1ms/step - loss: 0.0038 - mse: 0.0038 - mae: 0.0349 - accuracy: 1.0000\n",
      "Epoch 100/150\n",
      "14/14 [==============================] - 0s 1ms/step - loss: 0.0037 - mse: 0.0037 - mae: 0.0341 - accuracy: 1.0000\n",
      "Epoch 101/150\n",
      "14/14 [==============================] - 0s 1ms/step - loss: 0.0037 - mse: 0.0037 - mae: 0.0343 - accuracy: 1.0000\n",
      "Epoch 102/150\n",
      "14/14 [==============================] - 0s 1ms/step - loss: 0.0037 - mse: 0.0037 - mae: 0.0343 - accuracy: 1.0000\n",
      "Epoch 103/150\n",
      "14/14 [==============================] - 0s 1ms/step - loss: 0.0035 - mse: 0.0035 - mae: 0.0335 - accuracy: 1.0000    \n",
      "Epoch 104/150\n",
      "14/14 [==============================] - 0s 1ms/step - loss: 0.0036 - mse: 0.0036 - mae: 0.0337 - accuracy: 1.0000    \n",
      "Epoch 105/150\n",
      "14/14 [==============================] - 0s 1ms/step - loss: 0.0035 - mse: 0.0035 - mae: 0.0332 - accuracy: 1.0000\n",
      "Epoch 106/150\n",
      "14/14 [==============================] - 0s 1ms/step - loss: 0.0034 - mse: 0.0034 - mae: 0.0329 - accuracy: 1.0000\n",
      "Epoch 107/150\n",
      "14/14 [==============================] - 0s 1ms/step - loss: 0.0033 - mse: 0.0033 - mae: 0.0327 - accuracy: 1.0000\n",
      "Epoch 108/150\n",
      "14/14 [==============================] - 0s 1ms/step - loss: 0.0033 - mse: 0.0033 - mae: 0.0321 - accuracy: 1.0000    \n",
      "Epoch 109/150\n",
      "14/14 [==============================] - 0s 1ms/step - loss: 0.0032 - mse: 0.0032 - mae: 0.0316 - accuracy: 1.0000\n",
      "Epoch 110/150\n",
      "14/14 [==============================] - 0s 1ms/step - loss: 0.0031 - mse: 0.0031 - mae: 0.0313 - accuracy: 1.0000\n",
      "Epoch 111/150\n",
      "14/14 [==============================] - 0s 1ms/step - loss: 0.0031 - mse: 0.0031 - mae: 0.0315 - accuracy: 1.0000\n",
      "Epoch 112/150\n",
      "14/14 [==============================] - 0s 1ms/step - loss: 0.0031 - mse: 0.0031 - mae: 0.0312 - accuracy: 1.0000\n",
      "Epoch 113/150\n",
      "14/14 [==============================] - 0s 1ms/step - loss: 0.0029 - mse: 0.0029 - mae: 0.0302 - accuracy: 1.0000    \n",
      "Epoch 114/150\n",
      "14/14 [==============================] - 0s 1ms/step - loss: 0.0029 - mse: 0.0029 - mae: 0.0299 - accuracy: 1.0000\n",
      "Epoch 115/150\n",
      "14/14 [==============================] - 0s 1ms/step - loss: 0.0029 - mse: 0.0029 - mae: 0.0299 - accuracy: 1.0000    \n",
      "Epoch 116/150\n",
      "14/14 [==============================] - 0s 1ms/step - loss: 0.0028 - mse: 0.0028 - mae: 0.0294 - accuracy: 1.0000    \n",
      "Epoch 117/150\n",
      "14/14 [==============================] - 0s 1ms/step - loss: 0.0027 - mse: 0.0027 - mae: 0.0293 - accuracy: 1.0000    \n",
      "Epoch 118/150\n",
      "14/14 [==============================] - 0s 1ms/step - loss: 0.0028 - mse: 0.0028 - mae: 0.0291 - accuracy: 1.0000\n",
      "Epoch 119/150\n",
      "14/14 [==============================] - ETA: 0s - loss: 0.0028 - mse: 0.0028 - mae: 0.0341 - accuracy: 1.00 - 0s 1ms/step - loss: 0.0027 - mse: 0.0027 - mae: 0.0288 - accuracy: 1.0000\n",
      "Epoch 120/150\n",
      "14/14 [==============================] - 0s 1ms/step - loss: 0.0026 - mse: 0.0026 - mae: 0.0284 - accuracy: 1.0000\n",
      "Epoch 121/150\n"
     ]
    },
    {
     "name": "stdout",
     "output_type": "stream",
     "text": [
      "14/14 [==============================] - 0s 2ms/step - loss: 0.0026 - mse: 0.0026 - mae: 0.0285 - accuracy: 1.0000\n",
      "Epoch 122/150\n",
      "14/14 [==============================] - 0s 1ms/step - loss: 0.0026 - mse: 0.0026 - mae: 0.0289 - accuracy: 1.0000\n",
      "Epoch 123/150\n",
      "14/14 [==============================] - 0s 1ms/step - loss: 0.0025 - mse: 0.0025 - mae: 0.0279 - accuracy: 1.0000    \n",
      "Epoch 124/150\n",
      "14/14 [==============================] - 0s 1ms/step - loss: 0.0025 - mse: 0.0025 - mae: 0.0279 - accuracy: 1.0000    \n",
      "Epoch 125/150\n",
      "14/14 [==============================] - 0s 1ms/step - loss: 0.0024 - mse: 0.0024 - mae: 0.0276 - accuracy: 1.0000\n",
      "Epoch 126/150\n",
      "14/14 [==============================] - 0s 1ms/step - loss: 0.0024 - mse: 0.0024 - mae: 0.0274 - accuracy: 1.0000    \n",
      "Epoch 127/150\n",
      "14/14 [==============================] - 0s 1ms/step - loss: 0.0024 - mse: 0.0024 - mae: 0.0271 - accuracy: 1.0000\n",
      "Epoch 128/150\n",
      "14/14 [==============================] - 0s 1ms/step - loss: 0.0024 - mse: 0.0024 - mae: 0.0275 - accuracy: 1.0000    \n",
      "Epoch 129/150\n",
      "14/14 [==============================] - 0s 1ms/step - loss: 0.0023 - mse: 0.0023 - mae: 0.0265 - accuracy: 1.0000\n",
      "Epoch 130/150\n",
      "14/14 [==============================] - 0s 1ms/step - loss: 0.0023 - mse: 0.0023 - mae: 0.0268 - accuracy: 1.0000\n",
      "Epoch 131/150\n",
      "14/14 [==============================] - 0s 1ms/step - loss: 0.0023 - mse: 0.0023 - mae: 0.0264 - accuracy: 1.0000\n",
      "Epoch 132/150\n",
      "14/14 [==============================] - 0s 1ms/step - loss: 0.0023 - mse: 0.0023 - mae: 0.0262 - accuracy: 1.0000\n",
      "Epoch 133/150\n",
      "14/14 [==============================] - 0s 1ms/step - loss: 0.0022 - mse: 0.0022 - mae: 0.0265 - accuracy: 1.0000\n",
      "Epoch 134/150\n",
      "14/14 [==============================] - 0s 1ms/step - loss: 0.0022 - mse: 0.0022 - mae: 0.0262 - accuracy: 1.0000    \n",
      "Epoch 135/150\n",
      "14/14 [==============================] - 0s 1ms/step - loss: 0.0021 - mse: 0.0021 - mae: 0.0254 - accuracy: 1.0000\n",
      "Epoch 136/150\n",
      "14/14 [==============================] - 0s 1ms/step - loss: 0.0021 - mse: 0.0021 - mae: 0.0253 - accuracy: 1.0000\n",
      "Epoch 137/150\n",
      "14/14 [==============================] - 0s 1ms/step - loss: 0.0021 - mse: 0.0021 - mae: 0.0249 - accuracy: 1.0000    \n",
      "Epoch 138/150\n",
      "14/14 [==============================] - 0s 1ms/step - loss: 0.0020 - mse: 0.0020 - mae: 0.0249 - accuracy: 1.0000    \n",
      "Epoch 139/150\n",
      "14/14 [==============================] - 0s 1ms/step - loss: 0.0020 - mse: 0.0020 - mae: 0.0249 - accuracy: 1.0000\n",
      "Epoch 140/150\n",
      "14/14 [==============================] - 0s 1ms/step - loss: 0.0019 - mse: 0.0019 - mae: 0.0241 - accuracy: 1.0000\n",
      "Epoch 141/150\n",
      "14/14 [==============================] - 0s 2ms/step - loss: 0.0020 - mse: 0.0020 - mae: 0.0246 - accuracy: 1.0000\n",
      "Epoch 142/150\n",
      "14/14 [==============================] - 0s 1ms/step - loss: 0.0019 - mse: 0.0019 - mae: 0.0240 - accuracy: 1.0000    \n",
      "Epoch 143/150\n",
      "14/14 [==============================] - 0s 2ms/step - loss: 0.0019 - mse: 0.0019 - mae: 0.0236 - accuracy: 1.0000\n",
      "Epoch 144/150\n",
      "14/14 [==============================] - 0s 1ms/step - loss: 0.0020 - mse: 0.0020 - mae: 0.0236 - accuracy: 1.0000\n",
      "Epoch 145/150\n",
      "14/14 [==============================] - 0s 1ms/step - loss: 0.0019 - mse: 0.0019 - mae: 0.0240 - accuracy: 1.0000\n",
      "Epoch 146/150\n",
      "14/14 [==============================] - 0s 1ms/step - loss: 0.0018 - mse: 0.0018 - mae: 0.0234 - accuracy: 1.0000    \n",
      "Epoch 147/150\n",
      "14/14 [==============================] - 0s 1ms/step - loss: 0.0018 - mse: 0.0018 - mae: 0.0233 - accuracy: 1.0000\n",
      "Epoch 148/150\n",
      "14/14 [==============================] - 0s 1ms/step - loss: 0.0018 - mse: 0.0018 - mae: 0.0235 - accuracy: 1.0000    \n",
      "Epoch 149/150\n",
      "14/14 [==============================] - 0s 1ms/step - loss: 0.0017 - mse: 0.0017 - mae: 0.0228 - accuracy: 1.0000    \n",
      "Epoch 150/150\n",
      "14/14 [==============================] - 0s 1ms/step - loss: 0.0018 - mse: 0.0018 - mae: 0.0229 - accuracy: 1.0000\n"
     ]
    }
   ],
   "source": [
    "model=Sequential()\n",
    "model.add(Dense(12, input_dim=24, activation='relu'))\n",
    "model.add(Dense(8, activation='relu'))\n",
    "model.add(Dense(1, activation='linear'))\n",
    "model.summary()\n",
    "model.compile(loss='mse',optimizer='adam',metrics=['mse','mae','accuracy'])\n",
    "history=model.fit(train_features,train_target,epochs=150,batch_size=20)"
   ]
  },
  {
   "cell_type": "code",
   "execution_count": 84,
   "id": "f6472190",
   "metadata": {},
   "outputs": [],
   "source": [
    "model.save('C:/Users/sriya/Downloads/Madhyam/Mini-Project-master/result.h5')"
   ]
  },
  {
   "cell_type": "code",
   "execution_count": 102,
   "id": "b27dac5a",
   "metadata": {},
   "outputs": [],
   "source": [
    "from tensorflow.python import keras\n",
    "import tensorflow as tf\n",
    "modelnew=keras.models.load_model('C:/Users/sriya/Downloads/Madhyam/Mini-Project-master/result.h5')"
   ]
  },
  {
   "cell_type": "code",
   "execution_count": 103,
   "id": "159662f0",
   "metadata": {},
   "outputs": [],
   "source": [
    "converter=tensorflow.lite.TFLiteConverter.from_keras_model(modelnew)"
   ]
  },
  {
   "cell_type": "code",
   "execution_count": 104,
   "id": "8245ebee",
   "metadata": {},
   "outputs": [],
   "source": [
    "# tflite_model=converter.convert()\n",
    "# open(\"converted model.tflite\", \"wb\").write(tflite_model)"
   ]
  },
  {
   "cell_type": "code",
   "execution_count": 105,
   "id": "3e7f49f1",
   "metadata": {},
   "outputs": [
    {
     "name": "stdout",
     "output_type": "stream",
     "text": [
      "Downloading data from https://storage.googleapis.com/tensorflow/keras-applications/xception/xception_weights_tf_dim_ordering_tf_kernels_notop.h5\n",
      "83689472/83683744 [==============================] - 115s 1us/step\n",
      "83697664/83683744 [==============================] - 115s 1us/step\n",
      "INFO:tensorflow:Assets written to: ./saved\\assets\n"
     ]
    }
   ],
   "source": [
    "from tensorflow.keras.layers import Conv2D\n",
    "from tensorflow.keras.applications.xception import Xception\n",
    "\n",
    "class MyModel(tf.keras.Model):\n",
    "\n",
    "  def __init__(self, input_shape, num_classes=5, dropout_rate=0.5):\n",
    "    super(MyModel, self).__init__()\n",
    "    self.weight_dict = {}\n",
    "    self.weight_dict['backbone'] = Xception(input_shape=input_shape, weights='imagenet', include_top=False)\n",
    "    self.weight_dict['outputs'] = Conv2D(num_classes, (1, 1), padding=\"same\", activation=\"softmax\")\n",
    "    self.build((None,) + input_shape)\n",
    "\n",
    "  def call(self, inputs, training=False):\n",
    "    self.weight_dict['backbone'].trainable = False\n",
    "    x = self.weight_dict['backbone'](inputs)\n",
    "    x = self.weight_dict['outputs'](x)\n",
    "    return x\n",
    "\n",
    "input_shape=(256, 256, 3)\n",
    "model=MyModel(input_shape)\n",
    "\n",
    "model.compute_output_shape(input_shape=(None, 256, 256, 3))\n",
    "model.save('./saved')"
   ]
  },
  {
   "cell_type": "code",
   "execution_count": null,
   "id": "64356008",
   "metadata": {},
   "outputs": [],
   "source": []
  }
 ],
 "metadata": {
  "kernelspec": {
   "display_name": "Python 3 (ipykernel)",
   "language": "python",
   "name": "python3"
  },
  "language_info": {
   "codemirror_mode": {
    "name": "ipython",
    "version": 3
   },
   "file_extension": ".py",
   "mimetype": "text/x-python",
   "name": "python",
   "nbconvert_exporter": "python",
   "pygments_lexer": "ipython3",
   "version": "3.9.7"
  }
 },
 "nbformat": 4,
 "nbformat_minor": 5
}
